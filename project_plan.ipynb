{
 "cells": [
  {
   "cell_type": "markdown",
   "metadata": {},
   "source": [
    "- design a graph class\n",
    "- add a function to read out molecules from .xyz\n",
    "- store the molecules as instances of a graph class:\n",
    "    - each atom is a node\n",
    "    - each bond is an edge\n",
    "    - include coordinates\n",
    "- store those molecules in a database\n",
    "- read out the molecular mass functionality\n",
    "- search for a functional group functionality\n",
    "- plot the molecule using matplotlib"
   ]
  },
  {
   "cell_type": "markdown",
   "metadata": {},
   "source": [
    "    "
   ]
  }
 ],
 "metadata": {
  "language_info": {
   "name": "python"
  }
 },
 "nbformat": 4,
 "nbformat_minor": 2
}
