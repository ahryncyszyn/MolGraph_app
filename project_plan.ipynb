{
 "cells": [
  {
   "cell_type": "markdown",
   "metadata": {},
   "source": [
    "\n",
    "- connect the button to read out the molecular mass functionality\n",
    "- connect the button to plot the molecule\n",
    "- design the calculation window to be more readable\n",
    "\n",
    "- search for a functional group functionality"
   ]
  },
  {
   "cell_type": "markdown",
   "metadata": {},
   "source": [
    "    "
   ]
  }
 ],
 "metadata": {
  "language_info": {
   "name": "python"
  }
 },
 "nbformat": 4,
 "nbformat_minor": 2
}
